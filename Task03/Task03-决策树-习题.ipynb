{
 "cells": [
  {
   "cell_type": "markdown",
   "id": "db7b77e7",
   "metadata": {},
   "source": [
    "**4.1 试证明对于不含冲突数据（即特征向量完全相同但标记不同）的训练集,必存在与训练集一致（即训练误差为0）的决策树.**\n",
    "\n",
    "<font color='red'> 假设不存在与训练集一致的决策树，那么训练集训练得到的决策树至少有一个节点上存在无法划分的多个数据（如果节点上没有冲突数据，总是能够将数据分开的）。这和不含冲突数据相矛盾，因此比存在与训练集一致的决策树。</font>\n"
   ]
  },
  {
   "cell_type": "markdown",
   "id": "f0dcf4b9",
   "metadata": {},
   "source": [
    "**4.2 试析使用“最小训练误差”作为决策树划分选择的缺陷**\n",
    "\n",
    "<font color='red'>会存在过拟合的情况，对未知的数据的泛化能力较差。</font>"
   ]
  },
  {
   "cell_type": "markdown",
   "id": "c59edbdd",
   "metadata": {},
   "source": [
    "**4.3 试编程实现基于信息熵进行划分选择的决策树算法，并为表4.3中数据生成一颗决策树**"
   ]
  },
  {
   "cell_type": "markdown",
   "id": "4a415acb",
   "metadata": {},
   "source": [
    "**4.4 试编程实现基于基尼指数进行划分选择的决策树算法，为表4 .2中数据生成预剪枝、后剪枝决策树，并与未剪枝决策树进行比较.**"
   ]
  },
  {
   "cell_type": "markdown",
   "id": "ebd99ed5",
   "metadata": {},
   "source": [
    "**4.5 试编程实现基于对率回归进行划分选择的决策树算法，并为表4 .3中数据生成一棵决策树.**"
   ]
  },
  {
   "cell_type": "markdown",
   "id": "aa3472ad",
   "metadata": {},
   "source": [
    "**4.6 试选择4个UCI数据集,对上述3种算法所产生的未剪枝、预剪枝、后剪枝决策树进行实验比较，并进行适当的统计显著性检验.**"
   ]
  },
  {
   "cell_type": "markdown",
   "id": "a44c67a5",
   "metadata": {},
   "source": [
    "**4.7 图4.2是一个递归算法，若面临巨量数据，则决策树的层数会很深，使用递归方法易导致“栈”溢出.试使用“队列”数据结构，以参数\n",
    "加如。磔防控制树的最大深度，写出与图4.2等价、但不使用递归的决策树生成算法.**"
   ]
  },
  {
   "cell_type": "markdown",
   "id": "25e6b3db",
   "metadata": {},
   "source": [
    "**4.8 * 试将决策树生成的深度优先搜索过程修改为广度优先搜索，以参数MaxNode控制树的最大结点数，将题4 .7中基于队列的决策树算法\n",
    "进行改写.对比题4 .7中的算法，试析哪种方式更易于控制决策树所需存储不超出内存.**"
   ]
  },
  {
   "cell_type": "markdown",
   "id": "7a055b62",
   "metadata": {},
   "source": [
    "**4.9 试将4.4.2节对缺失值的处理机制推广到基尼指数的计算中去.**"
   ]
  },
  {
   "cell_type": "markdown",
   "id": "74f47f4e",
   "metadata": {},
   "source": [
    "**4.10 从网上下载或自己编程实现任意一种多变量决策树算法，并观察其在西瓜数据集3.0上产生的结果.**"
   ]
  }
 ],
 "metadata": {
  "kernelspec": {
   "display_name": "Python 3",
   "language": "python",
   "name": "python3"
  },
  "language_info": {
   "codemirror_mode": {
    "name": "ipython",
    "version": 3
   },
   "file_extension": ".py",
   "mimetype": "text/x-python",
   "name": "python",
   "nbconvert_exporter": "python",
   "pygments_lexer": "ipython3",
   "version": "3.8.8"
  }
 },
 "nbformat": 4,
 "nbformat_minor": 5
}
